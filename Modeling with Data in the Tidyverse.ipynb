{
 "cells": [
  {
   "cell_type": "markdown",
   "metadata": {},
   "source": [
    "# Modeling with Data in the Tidyverse\n",
    "<img src=\"img/0.0.png\" align=\"left\">"
   ]
  },
  {
   "cell_type": "markdown",
   "metadata": {},
   "source": [
    "#### Description\n",
    "**In this course, you will learn to model with data. Models attempt to capture the relationship between an outcome variable of interest and a series of explanatory/predictor variables. Such models can be used for both explanatory purposes, e.g. \"Does knowing professors' ages help explain their teaching evaluation scores?\", and predictive purposes, e.g., \"How well can we predict a house's price based on its size and condition?\" You will leverage your tidyverse skills to construct and interpret such models. This course centers around the use of linear regression, one of the most commonly-used and easy to understand approaches to modeling. Such modeling and thinking is used in a wide variety of fields, including statistics, causal inference, machine learning, and artificial intelligence.**"
   ]
  },
  {
   "cell_type": "code",
   "execution_count": null,
   "metadata": {},
   "outputs": [],
   "source": []
  },
  {
   "cell_type": "code",
   "execution_count": null,
   "metadata": {},
   "outputs": [],
   "source": []
  },
  {
   "cell_type": "markdown",
   "metadata": {},
   "source": [
    "# 1 - Introduction to Modeling\n",
    "**This chapter will introduce you to some background theory and terminology for modeling, in particular, the general modeling framework, the difference between modeling for explanation and modeling for prediction, and the modeling problem. Furthermore, you'll start performing your first exploratory data analysis, a crucial first step before any formal modeling.**"
   ]
  },
  {
   "cell_type": "code",
   "execution_count": null,
   "metadata": {},
   "outputs": [],
   "source": []
  },
  {
   "cell_type": "markdown",
   "metadata": {},
   "source": [
    "## 1.2 - Exploratory visualization of age\n",
    "<img src=\"img/1.2.png\" align=\"left\">"
   ]
  },
  {
   "cell_type": "code",
   "execution_count": null,
   "metadata": {},
   "outputs": [],
   "source": [
    "# Install Packages\n",
    "!install.packages(\"moderndive\")"
   ]
  },
  {
   "cell_type": "code",
   "execution_count": 4,
   "metadata": {},
   "outputs": [
    {
     "data": {
      "image/png": "[encoded data removed]",
      "text/plain": [
       "plot without title"
      ]
     },
     "metadata": {},
     "output_type": "display_data"
    }
   ],
   "source": [
    "# Load packages\n",
    "library(moderndive)\n",
    "library(ggplot2)\n",
    "\n",
    "# Plot the histogram\n",
    "ggplot(evals, aes(x = age)) +\n",
    "  geom_histogram(binwidth = 5) +\n",
    "  labs(x = \"age\", y = \"count\")"
   ]
  },
  {
   "cell_type": "markdown",
   "metadata": {},
   "source": [
    "## 1.3 - Numerical summaries of age\n",
    "<img src=\"img/1.3.png\" align=\"left\">"
   ]
  },
  {
   "cell_type": "code",
   "execution_count": null,
   "metadata": {},
   "outputs": [],
   "source": [
    "# Load packages\n",
    "library(moderndive)\n",
    "library(dplyr)\n",
    "\n",
    "# Compute summary stats\n",
    "evals %>%\n",
    "  summarize(mean_age = mean(age),\n",
    "            median_age = median(age),\n",
    "            sd_age = sd(age))"
   ]
  },
  {
   "cell_type": "markdown",
   "metadata": {},
   "source": [
    "## 1.4 - Video - Background on modeling for prediction\n",
    "<div align=\"left\">\n",
    "<video width=\"80%\" controls>\n",
    "<source src=\"vid\\1.4.mp4\" type=\"video/mp4\"> \n",
    "</video>\n",
    "</div>"
   ]
  },
  {
   "cell_type": "markdown",
   "metadata": {},
   "source": [
    "## 1.5 - Exploratory visualization of house size\n",
    "<img src=\"img/1.5.png\" align=\"left\">"
   ]
  },
  {
   "cell_type": "code",
   "execution_count": null,
   "metadata": {},
   "outputs": [],
   "source": [
    "#1\n",
    "# Load packages\n",
    "library(moderndive)\n",
    "library(ggplot2)\n",
    "\n",
    "# Plot the histogram\n",
    "ggplot(house_prices, aes(x = sqft_living)) +\n",
    "  geom_histogram() +\n",
    "  labs(x = \"Size (sq.feet)\", y = \"count\")\n",
    "\n",
    "\n",
    "#2 Quiz"
   ]
  },
  {
   "cell_type": "markdown",
   "metadata": {},
   "source": [
    "## 1.6 - Log10 transformation of house size\n",
    "<img src=\"img/1.6.png\" align=\"left\">"
   ]
  },
  {
   "cell_type": "code",
   "execution_count": null,
   "metadata": {},
   "outputs": [],
   "source": [
    "#1\n",
    "# Load packages\n",
    "library(moderndive)\n",
    "library(dplyr)\n",
    "library(ggplot2)\n",
    "\n",
    "# Add log10_size\n",
    "house_prices_2 <- house_prices %>%\n",
    "  mutate(log10_size = log10(sqft_living))\n",
    "\n",
    "#2\n",
    "# Load packages\n",
    "library(moderndive)\n",
    "library(dplyr)\n",
    "library(ggplot2)\n",
    "\n",
    "# Add log10_size\n",
    "house_prices_2 <- house_prices %>%\n",
    "  mutate(log10_size = log10(sqft_living))\n",
    "\n",
    "# Plot the histogram  \n",
    "ggplot(house_prices_2, aes(x = log10_size)) +\n",
    "  geom_histogram() +\n",
    "  labs(x = \"log10 size\", y = \"count\")"
   ]
  },
  {
   "cell_type": "markdown",
   "metadata": {},
   "source": [
    "## 1.7 - Video - The modeling problem for explanation\n",
    "<div align=\"left\">\n",
    "<video width=\"80%\" controls>\n",
    "<source src=\"vid\\1.7.mp4\" type=\"video/mp4\"> \n",
    "</video>\n",
    "</div>"
   ]
  },
  {
   "cell_type": "markdown",
   "metadata": {},
   "source": [
    "## 1.8 - EDA of relationship of teaching & \"beauty\" scores\n",
    "<img src=\"img/1.8.png\" align=\"left\">"
   ]
  },
  {
   "cell_type": "code",
   "execution_count": null,
   "metadata": {},
   "outputs": [],
   "source": [
    "#1\n",
    "# Plot the histogram\n",
    "ggplot(evals, aes(x = bty_avg)) +\n",
    "  geom_histogram(binwidth = 0.5) +\n",
    "  labs(x = \"Beauty score\", y = \"count\")\n",
    "  \n",
    "  \n",
    "#2\n",
    "# Scatterplot\n",
    "ggplot(evals, aes(x = bty_avg, y = score)) +\n",
    "  geom_point() +\n",
    "  labs(x = \"beauty score\", y = \"teaching score\")\n",
    "  \n",
    "\n",
    "#3\n",
    "# Jitter plot\n",
    "ggplot(evals, aes(x = bty_avg, y = score)) +\n",
    "  geom_jitter() +\n",
    "  labs(x = \"beauty score\", y = \"teaching score\")"
   ]
  },
  {
   "cell_type": "markdown",
   "metadata": {},
   "source": [
    "## 1.9 - Correlation between teaching and \"beauty\" scores\n",
    "<img src=\"img/1.9.png\" align=\"left\">"
   ]
  },
  {
   "cell_type": "code",
   "execution_count": null,
   "metadata": {},
   "outputs": [],
   "source": [
    "#1\n",
    "# Compute correlation\n",
    "evals %>%\n",
    "  summarize(correlation = cor(score, bty_avg))\n",
    "  \n",
    "#2 Quiz"
   ]
  },
  {
   "cell_type": "markdown",
   "metadata": {},
   "source": [
    "## 1.10 - Video - The modeling problem for prediction\n",
    "<div align=\"left\">\n",
    "<video width=\"80%\" controls>\n",
    "<source src=\"vid\\1.10.mp4\" type=\"video/mp4\"> \n",
    "</video>\n",
    "</div>"
   ]
  },
  {
   "cell_type": "markdown",
   "metadata": {},
   "source": [
    "## 1.11 - EDA of relationship of house price and waterfront\n",
    "<img src=\"img/1.11.png\" align=\"left\">"
   ]
  },
  {
   "cell_type": "code",
   "execution_count": null,
   "metadata": {},
   "outputs": [],
   "source": [
    "#1 \n",
    "# View the structure of log10_price and waterfront\n",
    "house_prices %>%\n",
    "  select(log10_price, waterfront) %>%\n",
    "  glimpse()\n",
    "\n",
    "\n",
    "#2\n",
    "# View the structure of log10_price and waterfront\n",
    "house_prices %>%\n",
    "  select(log10_price, waterfront) %>%\n",
    "  glimpse()\n",
    "\n",
    "# Plot\n",
    "ggplot(house_prices, aes(x = waterfront, y = log10_price)) +\n",
    "  geom_boxplot() +\n",
    "  labs(x = \"waterfront\", y = \"log10 price\")"
   ]
  },
  {
   "cell_type": "markdown",
   "metadata": {},
   "source": [
    "## 1.12 - Predicting house price with waterfront\n",
    "<img src=\"img/1.12.png\" align=\"left\">"
   ]
  },
  {
   "cell_type": "code",
   "execution_count": null,
   "metadata": {},
   "outputs": [],
   "source": [
    "#1\n",
    "# Calculate stats\n",
    "house_prices %>%\n",
    "  group_by(waterfront) %>%\n",
    "  summarize(mean_log10_price = mean(log10_price), n = n())\n",
    "\n",
    "#2\n",
    "# Calculate stats\n",
    "house_prices %>%\n",
    "  group_by(waterfront) %>%\n",
    "  summarize(mean_log10_price = mean(log10_price), n = n())\n",
    "  \n",
    "# Prediction of price for houses without view of waterfront\n",
    "10^(5.66)\n",
    "\n",
    "# Prediction of price for houses with view of waterfront\n",
    "10^(6.12)"
   ]
  },
  {
   "cell_type": "code",
   "execution_count": null,
   "metadata": {},
   "outputs": [],
   "source": []
  },
  {
   "cell_type": "code",
   "execution_count": null,
   "metadata": {},
   "outputs": [],
   "source": []
  },
  {
   "cell_type": "markdown",
   "metadata": {},
   "source": [
    "# 2 - Modeling with Basic Regression\n",
    "**Equipped with your understanding of the general modeling framework, in this chapter, we'll cover basic linear regression where you'll keep things simple and model the outcome variable y as a function of a single explanatory/ predictor variable x. We'll use both numerical and categorical x variables. The outcome variable of interest in this chapter will be teaching evaluation scores of instructors at the University of Texas, Austin.**"
   ]
  },
  {
   "cell_type": "code",
   "execution_count": null,
   "metadata": {},
   "outputs": [],
   "source": []
  },
  {
   "cell_type": "markdown",
   "metadata": {},
   "source": [
    "## 2.1 - Video - Explaining teaching score with age\n",
    "<div align=\"left\">\n",
    "<video width=\"80%\" controls>\n",
    "<source src=\"vid\\2.1.mp4\" type=\"video/mp4\"> \n",
    "</video>\n",
    "</div>"
   ]
  },
  {
   "cell_type": "markdown",
   "metadata": {},
   "source": [
    "## 2.2 - Plotting a \"best-fitting\" regression line\n",
    "<img src=\"img/2.2.png\" align=\"left\">"
   ]
  },
  {
   "cell_type": "code",
   "execution_count": null,
   "metadata": {},
   "outputs": [],
   "source": [
    "# Load packages\n",
    "library(ggplot2)\n",
    "library(dplyr)\n",
    "library(moderndive)\n",
    "\n",
    "# Plot\n",
    "ggplot(evals, aes(x = bty_avg, y = score)) +\n",
    "  geom_point() +\n",
    "  labs(x = \"beauty score\", y = \"score\") +\n",
    "  geom_smooth(method = \"lm\", se = FALSE)"
   ]
  },
  {
   "cell_type": "markdown",
   "metadata": {},
   "source": [
    "## 2.3 - Fitting a regression with a numerical x\n",
    "<img src=\"img/2.3.png\" align=\"left\">"
   ]
  },
  {
   "cell_type": "code",
   "execution_count": null,
   "metadata": {},
   "outputs": [],
   "source": [
    "#1\n",
    "# Load package\n",
    "library(moderndive)\n",
    "\n",
    "# Fit model\n",
    "model_score_2 <- lm(score ~ bty_avg, data = evals)\n",
    "\n",
    "# Output content\n",
    "model_score_2\n",
    "\n",
    "#2\n",
    "# Load package\n",
    "library(moderndive)\n",
    "\n",
    "# Fit model\n",
    "model_score_2 <- lm(score ~ bty_avg, data = evals)\n",
    "\n",
    "# Output regression table\n",
    "get_regression_table(model_score_2)\n",
    "\n",
    "#3\n",
    "Quiz"
   ]
  },
  {
   "cell_type": "markdown",
   "metadata": {},
   "source": [
    "## 2.4 - Video - Predicting teaching score using age\n",
    "<div align=\"left\">\n",
    "<video width=\"80%\" controls>\n",
    "<source src=\"vid\\2.4.mp4\" type=\"video/mp4\"> \n",
    "</video>\n",
    "</div>"
   ]
  },
  {
   "cell_type": "markdown",
   "metadata": {},
   "source": [
    "## 2.5 - Making predictions using \"beauty score\"\n",
    "<img src=\"img/2.5.png\" align=\"left\">"
   ]
  },
  {
   "cell_type": "code",
   "execution_count": null,
   "metadata": {},
   "outputs": [],
   "source": [
    "#1\n",
    "# Use fitted intercept and slope to get a prediction\n",
    "y_hat <- 3.88 + 5 * 0.0670\n",
    "y_hat\n",
    "\n",
    "\n",
    "#2\n",
    "# Use fitted intercept and slope to get a prediction\n",
    "y_hat <- 3.88 + 5 * 0.0670\n",
    "y_hat\n",
    "\n",
    "# Compute residual y - y_hat\n",
    "4.7 - 4.215"
   ]
  },
  {
   "cell_type": "markdown",
   "metadata": {},
   "source": [
    "## 2.6 - Computing fitted/predicted values & residuals\n",
    "<img src=\"img/2.6.png\" align=\"left\">"
   ]
  },
  {
   "cell_type": "code",
   "execution_count": null,
   "metadata": {},
   "outputs": [],
   "source": [
    "#1\n",
    "# Fit regression model\n",
    "model_score_2 <- lm(score ~ bty_avg, data = evals)\n",
    "\n",
    "# Get regression table\n",
    "get_regression_table(model_score_2)\n",
    "\n",
    "# Get all fitted/predicted values and residuals\n",
    "get_regression_points(model_score_2)\n",
    "\n",
    "\n",
    "#2\n",
    "# Fit regression model\n",
    "model_score_2 <- lm(score ~ bty_avg, data = evals)\n",
    "\n",
    "# Get regression table\n",
    "get_regression_table(model_score_2)\n",
    "\n",
    "# Get all fitted/predicted values and residuals\n",
    "get_regression_points(model_score_2) %>% \n",
    "  mutate(score_hat_2 = 3.88 + 0.067 * bty_avg)\n",
    "\n",
    "\n",
    "#3\n",
    "# Fit regression model\n",
    "model_score_2 <- lm(score ~ bty_avg, data = evals)\n",
    "\n",
    "# Get regression table\n",
    "get_regression_table(model_score_2)\n",
    "\n",
    "# Get all fitted/predicted values and residuals\n",
    "get_regression_points(model_score_2) %>% \n",
    "  mutate(residual_2 = score - score_hat)"
   ]
  },
  {
   "cell_type": "markdown",
   "metadata": {},
   "source": [
    "## 2.7 - Video - Explaining teaching score with gender\n",
    "<div align=\"left\">\n",
    "<video width=\"80%\" controls>\n",
    "<source src=\"vid\\2.7.mp4\" type=\"video/mp4\"> \n",
    "</video>\n",
    "</div>"
   ]
  },
  {
   "cell_type": "markdown",
   "metadata": {},
   "source": [
    "## 2.8 - EDA of relationship of score and rank\n",
    "<img src=\"img/2.8.png\" align=\"left\">"
   ]
  },
  {
   "cell_type": "code",
   "execution_count": null,
   "metadata": {},
   "outputs": [],
   "source": [
    "#1\n",
    "ggplot(evals, aes(x = rank, y = score)) +\n",
    "  geom_boxplot() +\n",
    "  labs(x = \"rank\", y = \"score\")\n",
    "\n",
    "\n",
    "#2\n",
    "evals %>%\n",
    "  group_by(rank) %>%\n",
    "  summarize(n = n(), mean_score = mean(score), sd_score = sd(score))"
   ]
  },
  {
   "cell_type": "markdown",
   "metadata": {},
   "source": [
    "## 2.9 - Fitting a regression with a categorical x\n",
    "<img src=\"img/2.9.png\" align=\"left\">"
   ]
  },
  {
   "cell_type": "code",
   "execution_count": null,
   "metadata": {},
   "outputs": [],
   "source": [
    "#1\n",
    "# Fit regression model\n",
    "model_score_4 <- lm(score ~ rank, data = evals)\n",
    "\n",
    "# Get regression table\n",
    "get_regression_table(model_score_4)\n",
    "\n",
    "\n",
    "#2\n",
    "# Fit regression model\n",
    "model_score_4 <- lm(score ~ rank, data = evals)\n",
    "\n",
    "# Get regression table\n",
    "get_regression_table(model_score_4)\n",
    "\n",
    "# teaching mean\n",
    "teaching_mean <- 4.28\n",
    "\n",
    "# tenure track mean\n",
    "tenure_track_mean <- 4.28 - 0.130\n",
    "\n",
    "# tenured mean\n",
    "tenured_mean <- 4.28 - 0.145"
   ]
  },
  {
   "cell_type": "markdown",
   "metadata": {},
   "source": [
    "## 2.10 - Video - Predicting teaching score using gender\n",
    "<div align=\"left\">\n",
    "<video width=\"80%\" controls>\n",
    "<source src=\"vid\\2.10.mp4\" type=\"video/mp4\"> \n",
    "</video>\n",
    "</div>"
   ]
  },
  {
   "cell_type": "markdown",
   "metadata": {},
   "source": [
    "## 2.11 - Making predictions using rank\n",
    "<img src=\"img/2.11.png\" align=\"left\">"
   ]
  },
  {
   "cell_type": "markdown",
   "metadata": {},
   "source": [
    "## 2.12 - Visualizing the distribution of residuals\n",
    "<img src=\"img/2.12.png\" align=\"left\">"
   ]
  },
  {
   "cell_type": "code",
   "execution_count": null,
   "metadata": {},
   "outputs": [],
   "source": [
    "#1 \n",
    "# Calculate predictions and residuals\n",
    "model_score_4_points <- get_regression_points(model_score_4)\n",
    "model_score_4_points\n",
    "\n",
    "\n",
    "#2\n",
    "# Calculate predictions and residuals\n",
    "model_score_4_points <- get_regression_points(model_score_4)\n",
    "model_score_4_points\n",
    "\n",
    "# Plot residuals\n",
    "ggplot(model_score_4_points, aes(x = residual)) +\n",
    "  geom_histogram() +\n",
    "  labs(x = \"residuals\", title = \"Residuals from score ~ rank model\")"
   ]
  },
  {
   "cell_type": "code",
   "execution_count": null,
   "metadata": {},
   "outputs": [],
   "source": []
  },
  {
   "cell_type": "code",
   "execution_count": null,
   "metadata": {},
   "outputs": [],
   "source": []
  },
  {
   "cell_type": "markdown",
   "metadata": {},
   "source": [
    "# 3 - Modeling with Multiple Regression\n",
    "**In the previous chapter, you learned about basic regression using either a single numerical or a categorical predictor. But why limit ourselves to using only one variable to inform your explanations/predictions? You will now extend basic regression to multiple regression, which allows for incorporation of more than one explanatory or one predictor variable in your models. You'll be modeling house prices using a dataset of houses in the Seattle, WA metropolitan area.**"
   ]
  },
  {
   "cell_type": "code",
   "execution_count": null,
   "metadata": {},
   "outputs": [],
   "source": []
  },
  {
   "cell_type": "markdown",
   "metadata": {},
   "source": [
    "## 3.1 - Video - Explaining house price with year & size\n",
    "<div align=\"left\">\n",
    "<video width=\"80%\" controls>\n",
    "<source src=\"vid\\3.1.mp4\" type=\"video/mp4\"> \n",
    "</video>\n",
    "</div>"
   ]
  },
  {
   "cell_type": "markdown",
   "metadata": {},
   "source": [
    "## 3.2 - EDA of relationship\n",
    "<img src=\"img/3.2.png\" align=\"left\">"
   ]
  },
  {
   "cell_type": "code",
   "execution_count": null,
   "metadata": {},
   "outputs": [],
   "source": [
    "#1\n",
    "# Create scatterplot with regression line\n",
    "ggplot(house_prices, aes(x = bedrooms, y = log10_price)) +\n",
    "  geom_point() +\n",
    "  labs(x = \"Number of bedrooms\", y = \"log10 price\") +\n",
    "  geom_smooth(method = \"lm\", se = FALSE)\n",
    "\n",
    "\n",
    "#2\n",
    "# Remove outlier\n",
    "house_prices_transform <- house_prices %>% \n",
    "  filter(bedrooms < 33)\n",
    "\n",
    "# Create scatterplot with regression line\n",
    "ggplot(house_prices_transform, aes(x = bedrooms, y = log10_price)) +\n",
    "  geom_point() +\n",
    "  labs(x = \"Number of bedrooms\", y = \"log10 price\") +\n",
    "  geom_smooth(method = \"lm\", se = FALSE)"
   ]
  },
  {
   "cell_type": "markdown",
   "metadata": {},
   "source": [
    "## 3.3 - Fitting a regression\n",
    "<img src=\"img/3.3.png\" align=\"left\">"
   ]
  },
  {
   "cell_type": "code",
   "execution_count": null,
   "metadata": {},
   "outputs": [],
   "source": [
    "#1\n",
    "# Fit model\n",
    "model_price_2 <- lm(log10_price ~ log10_size + bedrooms, \n",
    "                    data = house_prices)\n",
    "\n",
    "# Get regression table\n",
    "get_regression_table(model_price_2)\n",
    "\n",
    "\n",
    "\n",
    "#2 Quiz\n"
   ]
  },
  {
   "cell_type": "markdown",
   "metadata": {},
   "source": [
    "## 3.4 - Video - Predicting house price using year & size\n",
    "<div align=\"left\">\n",
    "<video width=\"80%\" controls>\n",
    "<source src=\"vid\\3.4.mp4\" type=\"video/mp4\"> \n",
    "</video>\n",
    "</div>"
   ]
  },
  {
   "cell_type": "markdown",
   "metadata": {},
   "source": [
    "## 3.5 - Making predictions using size and bedrooms\n",
    "<img src=\"img/3.5.png\" align=\"left\">"
   ]
  },
  {
   "cell_type": "code",
   "execution_count": null,
   "metadata": {},
   "outputs": [],
   "source": [
    "#1 \n",
    "# Make prediction in log10 dollars\n",
    "2.69 + 0.941 * log10(1000) - 0.033 * 3\n",
    "\n",
    "\n",
    "#2\n",
    "# Make prediction in log10 dollars\n",
    "2.69 + 0.941 * log10(1000) - 0.033 * 3\n",
    "\n",
    "# Make prediction dollars\n",
    "10^(2.69 + 0.941 * log10(1000) - 0.033 * 3)"
   ]
  },
  {
   "cell_type": "markdown",
   "metadata": {},
   "source": [
    "## 3.6 - Interpreting residuals\n",
    "<img src=\"img/3.6.png\" align=\"left\">"
   ]
  },
  {
   "cell_type": "code",
   "execution_count": null,
   "metadata": {},
   "outputs": [],
   "source": [
    "#1\n",
    "# Automate prediction and residual computation\n",
    "get_regression_points(model_price_2)\n",
    "\n",
    "\n",
    "#2\n",
    "# Automate prediction and residual computation\n",
    "get_regression_points(model_price_2) %>%\n",
    "  mutate(sq_residuals = residual^2) %>%\n",
    "  summarize(sum_sq_residuals = sum(sq_residuals))\n",
    "\n",
    "\n",
    "#3 Quiz"
   ]
  },
  {
   "cell_type": "markdown",
   "metadata": {},
   "source": [
    "## 3.7 - Video - Explaining house price with size & condition\n",
    "<div align=\"left\">\n",
    "<video width=\"80%\" controls>\n",
    "<source src=\"vid\\3.7.mp4\" type=\"video/mp4\"> \n",
    "</video>\n",
    "</div>"
   ]
  },
  {
   "cell_type": "markdown",
   "metadata": {},
   "source": [
    "## 3.8 - Parallel slopes model\n",
    "<img src=\"img/3.8.png\" align=\"left\">"
   ]
  },
  {
   "cell_type": "code",
   "execution_count": null,
   "metadata": {},
   "outputs": [],
   "source": [
    "# Fit model\n",
    "model_price_4 <- lm(log10_price ~ log10_size + waterfront,\n",
    "                    data = house_prices)\n",
    "\n",
    "# Get regression table\n",
    "get_regression_table(model_price_4)"
   ]
  },
  {
   "cell_type": "markdown",
   "metadata": {},
   "source": [
    "## 3.9 - Interpreting the parallel slopes model\n",
    "<img src=\"img/3.9.png\" align=\"left\">"
   ]
  },
  {
   "cell_type": "markdown",
   "metadata": {},
   "source": [
    "## 3.10 - Video - Predicting house price using size & condition\n",
    "<div align=\"left\">\n",
    "<video width=\"80%\" controls>\n",
    "<source src=\"vid\\3.10.mp4\" type=\"video/mp4\"> \n",
    "</video>\n",
    "</div>"
   ]
  },
  {
   "cell_type": "markdown",
   "metadata": {},
   "source": [
    "## 3.11 - Making predictions using size and waterfront\n",
    "<img src=\"img/3.11.png\" align=\"left\">"
   ]
  },
  {
   "cell_type": "code",
   "execution_count": null,
   "metadata": {},
   "outputs": [],
   "source": [
    "# Get regression table\n",
    "get_regression_table(model_price_4)\n",
    "\n",
    "# Prediction for House A\n",
    "10^(2.96 + 0.825 * 2.9 + 0.322)\n",
    "\n",
    "# Prediction for House B\n",
    "10^(2.96 + 0.825 * 3.1)\n",
    "\n",
    "\n"
   ]
  },
  {
   "cell_type": "markdown",
   "metadata": {},
   "source": [
    "## 3.12 - Automating predictions on \"new\" houses\n",
    "<img src=\"img/3.12.png\" align=\"left\">"
   ]
  },
  {
   "cell_type": "code",
   "execution_count": null,
   "metadata": {},
   "outputs": [],
   "source": [
    "#1\n",
    "#2\n",
    "# View the \"new\" houses\n",
    "new_houses_2\n",
    "\n",
    "# Get predictions on \"new\" houses\n",
    "get_regression_points(model_price_4, newdata = new_houses_2)\n",
    "\n",
    "\n",
    "#2\n",
    "# View the \"new\" houses\n",
    "new_houses_2\n",
    "\n",
    "# Get predictions price_hat in dollars on \"new\" houses\n",
    "get_regression_points(model_price_4, newdata = new_houses_2) %>% \n",
    "  mutate(price_hat = 10^log10_price_hat)"
   ]
  },
  {
   "cell_type": "code",
   "execution_count": null,
   "metadata": {},
   "outputs": [],
   "source": []
  },
  {
   "cell_type": "code",
   "execution_count": null,
   "metadata": {},
   "outputs": [],
   "source": []
  },
  {
   "cell_type": "markdown",
   "metadata": {},
   "source": [
    "# 4 - Model Assessment and Selection\n",
    "**In the previous chapters, you fit various models to explain or predict an outcome variable of interest. However, how do we know which models to choose? Model assessment measures allow you to assess how well an explanatory model \"fits\" a set of data or how accurate a predictive model is. Based on these measures, you'll learn about criteria for determining which models are \"best\".**"
   ]
  },
  {
   "cell_type": "code",
   "execution_count": null,
   "metadata": {},
   "outputs": [],
   "source": []
  },
  {
   "cell_type": "markdown",
   "metadata": {},
   "source": [
    "## 4.1 - Video - Model selection and assessment\n",
    "<div align=\"left\">\n",
    "<video width=\"80%\" controls>\n",
    "<source src=\"vid\\4.1.mp4\" type=\"video/mp4\"> \n",
    "</video>\n",
    "</div>"
   ]
  },
  {
   "cell_type": "markdown",
   "metadata": {},
   "source": [
    "## 4.2 - Refresher: sum of squared residuals\n",
    "<img src=\"img/4.2.png\" align=\"left\">"
   ]
  },
  {
   "cell_type": "code",
   "execution_count": null,
   "metadata": {},
   "outputs": [],
   "source": [
    "#1\n",
    "# Model 2\n",
    "model_price_2 <- lm(log10_price ~ log10_size + bedrooms, \n",
    "                    data = house_prices)\n",
    "\n",
    "# Calculate squared residuals\n",
    "get_regression_points(model_price_2) %>%\n",
    "  mutate(sq_residuals = residual^2) %>%\n",
    "  summarize(sum_sq_residuals = sum(sq_residuals))\n",
    "\n",
    "\n",
    "#2\n",
    "# Model 4\n",
    "model_price_4 <- lm(log10_price ~ log10_size + waterfront, \n",
    "                    data = house_prices)\n",
    "\n",
    "# Calculate squared residuals\n",
    "get_regression_points(model_price_4) %>%\n",
    "  mutate(sq_residuals = residual^2) %>%\n",
    "  summarize(sum_sq_residuals = sum(sq_residuals))"
   ]
  },
  {
   "cell_type": "markdown",
   "metadata": {},
   "source": [
    "## 4.3 - Which model to select?\n",
    "<img src=\"img/4.3.png\" align=\"left\">"
   ]
  },
  {
   "cell_type": "markdown",
   "metadata": {},
   "source": [
    "## 4.4 - Video - Assessing model fit with R-squared\n",
    "<div align=\"left\">\n",
    "<video width=\"80%\" controls>\n",
    "<source src=\"vid\\4.4.mp4\" type=\"video/mp4\"> \n",
    "</video>\n",
    "</div>"
   ]
  },
  {
   "cell_type": "markdown",
   "metadata": {},
   "source": [
    "## 4.5 - Computing the R-squared of a model\n",
    "<img src=\"img/4.5.png\" align=\"left\">"
   ]
  },
  {
   "cell_type": "code",
   "execution_count": null,
   "metadata": {},
   "outputs": [],
   "source": [
    "# Fit model\n",
    "model_price_2 <- lm(log10_price ~ log10_size + bedrooms,\n",
    "                    data = house_prices)\n",
    "                    \n",
    "# Get fitted/values & residuals, compute R^2 using residuals\n",
    "get_regression_points(model_price_2) %>%\n",
    "  summarize(r_squared = 1 - var(residual) / var(log10_price))"
   ]
  },
  {
   "cell_type": "markdown",
   "metadata": {},
   "source": [
    "## 4.6 - Comparing the R-squared of two models\n",
    "<img src=\"img/4.6.png\" align=\"left\">"
   ]
  },
  {
   "cell_type": "code",
   "execution_count": null,
   "metadata": {},
   "outputs": [],
   "source": [
    "#1\n",
    "# Fit model\n",
    "model_price_4 <- lm(log10_price ~ log10_size + waterfront,\n",
    "                    data = house_prices)\n",
    "\n",
    "# Get fitted/values & residuals, compute R^2 using residuals\n",
    "get_regression_points(model_price_4) %>%\n",
    "  summarize(r_squared = 1 - var(residual) / var(log10_price))\n",
    "\n",
    "\n",
    "#2\n"
   ]
  },
  {
   "cell_type": "markdown",
   "metadata": {},
   "source": [
    "## 4.7 - Video - Assessing predictions with RMSE\n",
    "<div align=\"left\">\n",
    "<video width=\"80%\" controls>\n",
    "<source src=\"vid\\4.7.mp4\" type=\"video/mp4\"> \n",
    "</video>\n",
    "</div>"
   ]
  },
  {
   "cell_type": "markdown",
   "metadata": {},
   "source": [
    "## 4.8 - Computing the MSE & RMSE of a model\n",
    "<img src=\"img/4.8.png\" align=\"left\">"
   ]
  },
  {
   "cell_type": "code",
   "execution_count": null,
   "metadata": {},
   "outputs": [],
   "source": [
    "#1\n",
    "# Get all residuals, square them, and take mean                    \n",
    "get_regression_points(model_price_2) %>%\n",
    "  mutate(sq_residuals = residual^2) %>%\n",
    "  summarize(mse = mean(sq_residuals))\n",
    "\n",
    "\n",
    "#2\n",
    "# Get all residuals, square them, take the mean and square root               \n",
    "get_regression_points(model_price_2) %>%\n",
    "  mutate(sq_residuals = residual^2) %>%\n",
    "  summarize(mse = mean(sq_residuals)) %>%\n",
    "  mutate(rmse = sqrt(mse))"
   ]
  },
  {
   "cell_type": "markdown",
   "metadata": {},
   "source": [
    "## 4.9 - Comparing the RMSE of two models\n",
    "<img src=\"img/4.9.png\" align=\"left\">"
   ]
  },
  {
   "cell_type": "code",
   "execution_count": null,
   "metadata": {},
   "outputs": [],
   "source": [
    "#1\n",
    "# MSE and RMSE for model_price_2\n",
    "get_regression_points(model_price_2) %>%\n",
    "  mutate(sq_residuals = residual^2) %>%\n",
    "  summarize(mse = mean(sq_residuals), rmse = sqrt(mean(sq_residuals)))\n",
    "\n",
    "# MSE and RMSE for model_price_4\n",
    "get_regression_points(model_price_4) %>%\n",
    "  mutate(sq_residuals = residual^2) %>%\n",
    "  summarize(mse = mean(sq_residuals), rmse = sqrt(mean(sq_residuals)))\n",
    "\n",
    "\n",
    "#2\n"
   ]
  },
  {
   "cell_type": "markdown",
   "metadata": {},
   "source": [
    "## 4.10 - Video - Validation set prediction framework\n",
    "<div align=\"left\">\n",
    "<video width=\"80%\" controls>\n",
    "<source src=\"vid\\4.10.mp4\" type=\"video/mp4\"> \n",
    "</video>\n",
    "</div>"
   ]
  },
  {
   "cell_type": "markdown",
   "metadata": {},
   "source": [
    "## 4.11 - Fitting model to training data\n",
    "<img src=\"img/4.11.png\" align=\"left\">"
   ]
  },
  {
   "cell_type": "code",
   "execution_count": null,
   "metadata": {},
   "outputs": [],
   "source": [
    "#1\n",
    "# Set random number generator seed value for reproducibility\n",
    "set.seed(76)\n",
    "\n",
    "# Randomly reorder the rows\n",
    "house_prices_shuffled <- house_prices %>% \n",
    "  sample_frac(size = 1, replace = FALSE)\n",
    "\n",
    "# Train/test split\n",
    "train <- house_prices_shuffled %>%\n",
    "  slice(1:10000)\n",
    "test <- house_prices_shuffled %>%\n",
    "  slice(10001:21613)\n",
    "\n",
    "\n",
    "#2\n",
    "# Set random number generator seed value for reproducibility\n",
    "set.seed(76)\n",
    "\n",
    "# Randomly reorder the rows\n",
    "house_prices_shuffled <- house_prices %>% \n",
    "  sample_frac(size = 1, replace = FALSE)\n",
    "\n",
    "# Train/test split\n",
    "train <- house_prices_shuffled %>%\n",
    "  slice(1:10000)\n",
    "test <- house_prices_shuffled %>%\n",
    "  slice(10001:21613)\n",
    "\n",
    "# Fit model to training set\n",
    "train_model_2 <- lm(log10_price ~ log10_size + bedrooms, data = train)"
   ]
  },
  {
   "cell_type": "markdown",
   "metadata": {},
   "source": [
    "## 4.12 - Predicting on test data\n",
    "<img src=\"img/4.12.png\" align=\"left\">"
   ]
  },
  {
   "cell_type": "code",
   "execution_count": null,
   "metadata": {},
   "outputs": [],
   "source": [
    "#1\n",
    "# Make predictions on test set\n",
    "get_regression_points(train_model_2, newdata = test)\n",
    "\n",
    "\n",
    "#2\n",
    "# Make predictions on test set\n",
    "get_regression_points(train_model_2, newdata = test)\n",
    "\n",
    "# Compute RMSE\n",
    "get_regression_points(train_model_2, newdata = test) %>% \n",
    "  mutate(sq_residuals = residual^2) %>%\n",
    "  summarize(rmse = sqrt(mean(sq_residuals)))"
   ]
  },
  {
   "cell_type": "markdown",
   "metadata": {},
   "source": [
    "## 4.13 - Video - Conclusion - Where to go from here?\n",
    "<div align=\"left\">\n",
    "<video width=\"80%\" controls>\n",
    "<source src=\"vid\\4.13.mp4\" type=\"video/mp4\"> \n",
    "</video>\n",
    "</div>"
   ]
  },
  {
   "cell_type": "code",
   "execution_count": null,
   "metadata": {},
   "outputs": [],
   "source": []
  },
  {
   "cell_type": "code",
   "execution_count": null,
   "metadata": {},
   "outputs": [],
   "source": []
  }
 ],
 "metadata": {
  "kernelspec": {
   "display_name": "R",
   "language": "R",
   "name": "ir"
  },
  "language_info": {
   "codemirror_mode": "r",
   "file_extension": ".r",
   "mimetype": "text/x-r-source",
   "name": "R",
   "pygments_lexer": "r",
   "version": "3.6.1"
  }
 },
 "nbformat": 4,
 "nbformat_minor": 4
}
